{
 "cells": [
  {
   "cell_type": "code",
   "execution_count": 1,
   "metadata": {},
   "outputs": [],
   "source": [
    "import os\n",
    "from selenium import webdriver\n",
    "from bs4 import BeautifulSoup\n",
    "from datetime import datetime\n",
    "from pymongo import MongoClient\n",
    "from selenium import webdriver\n",
    "from selenium.webdriver.firefox.options import Options\n",
    "from selenium.webdriver.support.ui import WebDriverWait\n",
    "from selenium.webdriver.common.by import By\n",
    "from selenium.webdriver.support import expected_conditions as EC"
   ]
  },
  {
   "cell_type": "code",
   "execution_count": 2,
   "metadata": {},
   "outputs": [],
   "source": [
    "def login_4f4(browser):\n",
    "    browser.get('https://4for4.com')\n",
    "    browser.implicitly_wait(15)\n",
    "    browser.find_element_by_xpath('/html/body/div[2]/div/div[1]/div/div/div[4]/div/div[1]/div/div/div/a').click()\n",
    "    browser.implicitly_wait(15)\n",
    "    user_name = browser.find_element_by_id('edit-name')\n",
    "    password = browser.find_element_by_id('edit-pass')\n",
    "    user_name.send_keys('josephmesser@gmail.com')\n",
    "    password.send_keys('Awejmo33$')\n",
    "    browser.find_element_by_id('edit-submit--6').click()\n",
    "    \n",
    "def scrape_4f4(url, download_path, dl_button):\n",
    "    profile = webdriver.FirefoxProfile()\n",
    "    profile.set_preference('browser.download.folderList', 2) # custom location\n",
    "    profile.set_preference('browser.download.manager.showWhenStarting', False)\n",
    "    profile.set_preference( \"browser.download.useDownloadDir\", True)\n",
    "    profile.set_preference('browser.download.dir', download_path)\n",
    "    profile.set_preference('browser.helperApps.neverAsk.saveToDisk', 'text/csv')\n",
    "    browser = webdriver.Firefox(profile)\n",
    "    login_4f4(browser)\n",
    "    browser.implicitly_wait(15)\n",
    "    browser.get(url)\n",
    "    browser.implicitly_wait(30)\n",
    "    browser.find_element_by_xpath(dl_button).click()\n",
    "    browser.close()"
   ]
  },
  {
   "cell_type": "code",
   "execution_count": 3,
   "metadata": {},
   "outputs": [],
   "source": [
    "dl_path = desktop = os.path.join(os.path.join(os.environ['USERPROFILE']), 'Desktop', 'DFS_data')\n",
    "if not os.path.exists(dl_path):\n",
    "    os.makedirs(dl_path)"
   ]
  },
  {
   "cell_type": "code",
   "execution_count": 7,
   "metadata": {},
   "outputs": [],
   "source": [
    "projection_dl_button ='//*[@id=\"block-system-main\"]/div/div/div/div/div/div/div[2]/div/div[2]/a'\n",
    "flr_ceil_proj_dl_button = '//*[@id=\"block-system-main\"]/div/div/div/div/div/div[4]/div/div/div/div[2]/div/a'\n",
    "ownership_dl_button = '//*[@id=\"field_sub_tab_body-wrapper\"]/a'\n",
    "redzone_dl_button = '//*[@id=\"field_sub_tab_body-wrapper\"]/a'"
   ]
  },
  {
   "cell_type": "code",
   "execution_count": 5,
   "metadata": {},
   "outputs": [],
   "source": [
    "season = 2020\n",
    "week1 = 1\n",
    "week2 = 1\n",
    "position = 'RB'\n",
    "\n",
    "projection_url = 'https://www.4for4.com/full-impact/cheatsheet/QB/154605/ff_nflstats'\n",
    "flr_ceil_proj_url = 'https://www.4for4.com/floor-ceiling-projections/draftkings'\n",
    "target_data_url = f'https://www.4for4.com/tools/stat-app/targets/{season}/{week1}/{week2}/ALL/{position}'\n",
    "ownership_data_4f4_url = 'https://www.4for4.com/gpp-leverage-scores'\n",
    "redzone_receiving_url = 'https://www.4for4.com/red-zone-stats?tab=0&sub-tab=0'\n",
    "redzone_rushing_url = 'https://www.4for4.com/red-zone-stats?tab=1&sub-tab=0'\n",
    "redzone_passing_url = 'https://www.4for4.com/red-zone-stats?tab=2&sub-tab=0'"
   ]
  },
  {
   "cell_type": "code",
   "execution_count": 8,
   "metadata": {},
   "outputs": [],
   "source": [
    "scrape_4f4(projection_url, dl_path, projection_dl_button)\n",
    "scrape_4f4(flr_ceil_proj_url, dl_path, flr_ceil_proj_dl_button)\n",
    "scrape_4f4(ownership_data_4f4_url, dl_path, ownership_dl_button)\n",
    "\n",
    "scrape_4f4(redzone_receiving_url, dl_path, redzone_dl_button)\n",
    "scrape_4f4(redzone_rushing_url, dl_path, redzone_dl_button)\n",
    "scrape_4f4(redzone_passing_url, dl_path, redzone_dl_button)"
   ]
  },
  {
   "cell_type": "code",
   "execution_count": null,
   "metadata": {},
   "outputs": [],
   "source": []
  }
 ],
 "metadata": {
  "kernelspec": {
   "display_name": "PythonComp",
   "language": "python",
   "name": "computerenv"
  },
  "language_info": {
   "codemirror_mode": {
    "name": "ipython",
    "version": 3
   },
   "file_extension": ".py",
   "mimetype": "text/x-python",
   "name": "python",
   "nbconvert_exporter": "python",
   "pygments_lexer": "ipython3",
   "version": "3.7.4"
  }
 },
 "nbformat": 4,
 "nbformat_minor": 4
}
