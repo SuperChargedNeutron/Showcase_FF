{
 "cells": [
  {
   "cell_type": "code",
   "execution_count": 42,
   "metadata": {},
   "outputs": [],
   "source": [
    "from selenium import webdriver\n",
    "from bs4 import BeautifulSoup\n",
    "from datetime import datetime\n",
    "from fractions import Fraction"
   ]
  },
  {
   "cell_type": "code",
   "execution_count": 43,
   "metadata": {},
   "outputs": [],
   "source": [
    "browser = webdriver.Firefox()\n",
    "browser.get('https://mybookie.ag/sportsbook/nfl/')\n",
    "html = browser.page_source\n",
    "browser.close()\n",
    "soup = BeautifulSoup(html, 'html.parser')"
   ]
  },
  {
   "cell_type": "code",
   "execution_count": 70,
   "metadata": {},
   "outputs": [
    {
     "name": "stdout",
     "output_type": "stream",
     "text": [
      "{'Home': 'Houston Texans', 'Road': 'Kansas City Chiefs', 'Season': 2020, 'Date': '9-10', 'Marker_O/U': 54.5, 'FAV': 'Kansas City Chiefs', 'DOG': 'Houston Texans'}\n",
      "{'Home': 'Miami Dolphins', 'Road': 'New England Patriots', 'Season': 2020, 'Date': '9-13', 'Marker_O/U': 43.5, 'FAV': 'New England Patriots', 'DOG': 'Miami Dolphins'}\n",
      "{'Home': 'Cleveland Browns', 'Road': 'Baltimore Ravens', 'Season': 2020, 'Date': '9-13', 'Marker_O/U': 48.5, 'FAV': 'Baltimore Ravens', 'DOG': 'Cleveland Browns'}\n",
      "{'Home': 'New York Jets', 'Road': 'Buffalo Bills', 'Season': 2020, 'Date': '9-13', 'Marker_O/U': 39.5, 'FAV': 'Buffalo Bills', 'DOG': 'New York Jets'}\n",
      "{'Home': 'Las Vegas Raiders', 'Road': 'Carolina Panthers', 'Season': 2020, 'Date': '9-13', 'Marker_O/U': '47', 'FAV': 'Las Vegas Raiders', 'DOG': 'Carolina Panthers'}\n",
      "{'Home': 'Seattle Seahawks', 'Road': 'Atlanta Falcons', 'Season': 2020, 'Date': '9-13', 'Marker_O/U': '49', 'FAV': 'Seattle Seahawks', 'DOG': 'Atlanta Falcons'}\n",
      "{'Home': 'Chicago Bears', 'Road': 'Detroit Lions', 'Season': 2020, 'Date': '9-13', 'Marker_O/U': '44', 'FAV': 'Detroit Lions', 'DOG': 'Chicago Bears'}\n",
      "{'Home': 'Indianapolis Colts', 'Road': 'Jacksonville Jaguars', 'Season': 2020, 'Date': '9-13', 'Marker_O/U': '45', 'FAV': 'Indianapolis Colts', 'DOG': 'Jacksonville Jaguars'}\n",
      "{'Home': 'Green Bay Packers', 'Road': 'Minnesota Vikings', 'Season': 2020, 'Date': '9-13', 'Marker_O/U': '46', 'FAV': 'Minnesota Vikings', 'DOG': 'Green Bay Packers'}\n",
      "{'Home': 'Los Angeles Chargers', 'Road': 'Cincinnati Bengals', 'Season': 2020, 'Date': '9-13', 'Marker_O/U': '44', 'FAV': 'Los Angeles Chargers', 'DOG': 'Cincinnati Bengals'}\n"
     ]
    }
   ],
   "source": [
    "for maindiv in soup.find_all(\"div\", {\"class\": \"game-line py-3\"})[0:10]:\n",
    "    vegas_row = {}\n",
    "    teams = maindiv.find('meta', {'itemprop':'name'}).get('content').split(' v ')\n",
    "    date = maindiv.find('meta', {'itemprop' : 'startDate'}).get('content')\n",
    "    py_date = datetime.strptime(date, '%Y-%m-%d %H:%M+00:%S')\n",
    "    buttons = [x.text.strip() for x in maindiv.find_all('button')]\n",
    "    market_ou = buttons[2].split()[1]\n",
    "    market_ou = int(market_ou[0:2]) + .5 if market_ou[-1] == '½' else market_ou\n",
    "    \n",
    "    vegas_row.update({'Home' : teams[0], \n",
    "                      'Road':teams[1],\n",
    "                      'Season': py_date.year,\n",
    "                     'Date':f\"{py_date.month}-{py_date.day}\",\n",
    "                      'Marker_O/U':market_ou\n",
    "                     })\n",
    "    if buttons[0][0] == '-':\n",
    "        fave_team = vegas_row['Home'] \n",
    "        dog_team = vegas_row['Road']\n",
    "    elif buttons[3][0] == '-':\n",
    "        fave_team = vegas_row['Road'] \n",
    "        dog_team = vegas_row['Home']\n",
    "    vegas_row.update({\n",
    "             'FAV':fave_team,\n",
    "             'DOG':dog_team\n",
    "         })\n",
    "    print(vegas_row)"
   ]
  },
  {
   "cell_type": "code",
   "execution_count": null,
   "metadata": {},
   "outputs": [],
   "source": []
  },
  {
   "cell_type": "code",
   "execution_count": null,
   "metadata": {},
   "outputs": [],
   "source": []
  }
 ],
 "metadata": {
  "kernelspec": {
   "display_name": "PythonComp",
   "language": "python",
   "name": "computerenv"
  },
  "language_info": {
   "codemirror_mode": {
    "name": "ipython",
    "version": 3
   },
   "file_extension": ".py",
   "mimetype": "text/x-python",
   "name": "python",
   "nbconvert_exporter": "python",
   "pygments_lexer": "ipython3",
   "version": "3.7.4"
  }
 },
 "nbformat": 4,
 "nbformat_minor": 4
}
