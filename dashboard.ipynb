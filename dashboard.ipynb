{
 "cells": [
  {
   "cell_type": "code",
   "execution_count": 22,
   "metadata": {},
   "outputs": [],
   "source": [
    "import pandas as pd\n",
    "import os\n",
    "import pymongo as pm\n",
    "import re\n",
    "pd.options.display.max_rows = 200"
   ]
  },
  {
   "cell_type": "code",
   "execution_count": 23,
   "metadata": {},
   "outputs": [],
   "source": [
    "workbook_path = os.path.join('DFS', 'Resources', 'DraftKingsNoNotes.xlsx')\n",
    "workbook = pd.ExcelFile(workbook_path)\n"
   ]
  },
  {
   "cell_type": "code",
   "execution_count": 24,
   "metadata": {},
   "outputs": [],
   "source": [
    "vegas_dash = workbook.parse('Vegas Dash')\n",
    "top_guns = workbook.parse('TOP GUNS')\n",
    "wr_dash = workbook.parse('WR Dash')\n",
    "te_dash = workbook.parse('TE Dash')\n",
    "rb_dash = workbook.parse('RB Dash')\n",
    "qb_dash = workbook.parse('QB Dash')\n",
    "dst_dash = workbook.parse('DST Dash')"
   ]
  },
  {
   "cell_type": "code",
   "execution_count": 25,
   "metadata": {},
   "outputs": [],
   "source": [
    "client = pm.MongoClient('localhost', 27017)\n",
    "\n",
    "db = client.test_database\n",
    "SS_Data = db['Saber_Sim_Data']\n",
    "_4f4_Proj = db['_4for4_Projection_Data']\n",
    "_4f4_Ceil = db['_4for4_Ceiling_Data']\n",
    "_4f4_WR_cb = db['_4for4_WR_cb']\n",
    "_4f4_RedZ = db['_4for4__RedZone_Data']\n",
    "_4f4_WR_fp = db['_4for4_WR_fantasy_points']\n",
    "_4f4_RB_fp = db['_4for4_RB_fantasy_points']\n",
    "_4f4_RB_tar = db['_4for4_RB_target']\n",
    "airy_WR = db['AirY_WR']\n",
    "airy_TE = db['AirY_TE']\n",
    "ETR_Ceil = db['ETR_Ceiling']"
   ]
  },
  {
   "cell_type": "code",
   "execution_count": 26,
   "metadata": {},
   "outputs": [],
   "source": [
    "def position_names(pos, db):\n",
    "    data = []\n",
    "\n",
    "    for collection in db.list_collection_names():\n",
    "        col = db[collection]\n",
    "        positions = ['Pos', 'Position', 'position']\n",
    "        for fil in positions:\n",
    "            doc_count = col.count_documents(filter={fil : pos})\n",
    "            if doc_count > 0:\n",
    "                cursor = col.find({fil : pos},{'_id':False})\n",
    "                for i in range(doc_count):\n",
    "                    data.append(cursor[i])\n",
    "    names = []\n",
    "    for row in data:\n",
    "        if 'full_name' in row:\n",
    "            name = row['full_name']\n",
    "            if not any(word in name for word in names):\n",
    "                names.append(name)\n",
    "        elif 'Name' in row:\n",
    "            name = row['Name']\n",
    "            if not any(word in name for word in names):\n",
    "                names.append(name)\n",
    "        elif 'Player' in row:\n",
    "            name = row['Player']\n",
    "            if not any(word in name for word in names):\n",
    "                names.append(name)\n",
    "    return names"
   ]
  },
  {
   "cell_type": "code",
   "execution_count": 37,
   "metadata": {},
   "outputs": [],
   "source": [
    "def player_query(player, db):\n",
    "    player_info = {'name' : player}\n",
    "    \n",
    "    for collection in db.list_collection_names():\n",
    "        col = db[collection]\n",
    "        name_forms = ['Name', 'Player', 'full_name']\n",
    "        for nm in name_forms:\n",
    "            doc_count = col.count_documents(filter={nm : player})\n",
    "            if doc_count > 0:\n",
    "                cursor = col.find({nm : player}, {'_id' : False, nm : False})\n",
    "                for i in range(doc_count):\n",
    "                    player_info.update(cursor[i])\n",
    "                    \n",
    "    return player_info\n"
   ]
  },
  {
   "cell_type": "code",
   "execution_count": 42,
   "metadata": {},
   "outputs": [],
   "source": [
    "qbs =  position_names('QB', db)"
   ]
  },
  {
   "cell_type": "code",
   "execution_count": 43,
   "metadata": {},
   "outputs": [],
   "source": [
    "qb_data = [player_query(player, db) for player in qbs]"
   ]
  },
  {
   "cell_type": "code",
   "execution_count": null,
   "metadata": {},
   "outputs": [],
   "source": []
  },
  {
   "cell_type": "code",
   "execution_count": null,
   "metadata": {},
   "outputs": [],
   "source": []
  },
  {
   "cell_type": "code",
   "execution_count": null,
   "metadata": {},
   "outputs": [],
   "source": []
  },
  {
   "cell_type": "code",
   "execution_count": null,
   "metadata": {},
   "outputs": [],
   "source": []
  },
  {
   "cell_type": "code",
   "execution_count": null,
   "metadata": {},
   "outputs": [],
   "source": []
  }
 ],
 "metadata": {
  "kernelspec": {
   "display_name": "PythonComp",
   "language": "python",
   "name": "computerenv"
  },
  "language_info": {
   "codemirror_mode": {
    "name": "ipython",
    "version": 3
   },
   "file_extension": ".py",
   "mimetype": "text/x-python",
   "name": "python",
   "nbconvert_exporter": "python",
   "pygments_lexer": "ipython3",
   "version": "3.7.4"
  }
 },
 "nbformat": 4,
 "nbformat_minor": 4
}
